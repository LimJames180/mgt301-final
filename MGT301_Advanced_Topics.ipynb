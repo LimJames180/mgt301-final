{
 "cells": [
  {
   "cell_type": "markdown",
   "id": "f938777d",
   "metadata": {},
   "source": [
    "# Advanced Topics and Visualization Templates"
   ]
  },
  {
   "cell_type": "markdown",
   "id": "b16b82da",
   "metadata": {},
   "source": [
    "## Section 1: Interactive Visualizations with Plotly"
   ]
  },
  {
   "cell_type": "code",
   "execution_count": null,
   "id": "cfbf414f",
   "metadata": {},
   "outputs": [],
   "source": [
    "\n",
    "import plotly.express as px\n",
    "import pandas as pd\n",
    "\n",
    "# Example data\n",
    "url = 'https://github.com/jiechengh/mgt301/blob/main/airbnb_sin_nyc.csv?raw=true'\n",
    "airbnb = pd.read_csv(url, index_col=0)\n",
    "airbnb.dropna(inplace=True)\n",
    "\n",
    "# Scatter mapbox visualization\n",
    "token = 'your_mapbox_access_token_here'\n",
    "px.set_mapbox_access_token(token)\n",
    "fig = px.scatter_mapbox(airbnb[airbnb['City']=='NYC'], lat='latitude', lon='longitude',\n",
    "                        color='price', size='number_of_reviews',\n",
    "                        color_continuous_scale=px.colors.sequential.Sunsetdark, zoom=9)\n",
    "fig.show()\n"
   ]
  },
  {
   "cell_type": "markdown",
   "id": "72c9ad81",
   "metadata": {},
   "source": [
    "## Section 2: Machine Learning Models"
   ]
  },
  {
   "cell_type": "code",
   "id": "912e67df",
   "metadata": {
    "ExecuteTime": {
     "end_time": "2024-12-11T10:04:46.527849Z",
     "start_time": "2024-12-11T10:04:46.214929Z"
    }
   },
   "source": [
    "\n",
    "# Example: Comparing ML algorithms for classification\n",
    "import pandas as pd\n",
    "from sklearn.model_selection import train_test_split, KFold, cross_val_score\n",
    "from sklearn.linear_model import LogisticRegression\n",
    "from sklearn.tree import DecisionTreeClassifier\n",
    "from sklearn.neighbors import KNeighborsClassifier\n",
    "from sklearn.discriminant_analysis import LinearDiscriminantAnalysis\n",
    "from sklearn.naive_bayes import GaussianNB\n",
    "from sklearn.svm import SVC\n",
    "\n",
    "# Example dataset\n",
    "loan = pd.read_csv('loan.csv', index_col=0)\n",
    "X = loan.loc[:, loan.columns != 'Loan_Status']\n",
    "y = loan['Loan_Status'].map({'N': 0, 'Y': 1})\n",
    "\n",
    "# Train-test split\n",
    "X_train, X_test, y_train, y_test = train_test_split(X, y, test_size=0.3, random_state=301)\n",
    "\n",
    "# Compare algorithms\n",
    "models = [\n",
    "    ('Logistic Regression', LogisticRegression(max_iter=1000)),\n",
    "    ('Decision Tree', DecisionTreeClassifier()),\n",
    "    ('KNN', KNeighborsClassifier()),\n",
    "    ('LDA', LinearDiscriminantAnalysis()),\n",
    "    ('Naive Bayes', GaussianNB()),\n",
    "    ('SVM', SVC())\n",
    "]\n",
    "\n",
    "results = []\n",
    "names = []\n",
    "for name, model in models:\n",
    "    kfold = KFold(n_splits=10, shuffle=True, random_state=301)\n",
    "    cv_results = cross_val_score(model, X_train, y_train, cv=kfold, scoring='accuracy')\n",
    "    results.append(cv_results)\n",
    "    names.append(name)\n",
    "    print(f\"{name}: {cv_results.mean():.2f} ({cv_results.std():.2f})\")\n"
   ],
   "outputs": [
    {
     "ename": "ModuleNotFoundError",
     "evalue": "No module named 'sklearn'",
     "output_type": "error",
     "traceback": [
      "\u001B[0;31m---------------------------------------------------------------------------\u001B[0m",
      "\u001B[0;31mModuleNotFoundError\u001B[0m                       Traceback (most recent call last)",
      "Cell \u001B[0;32mIn[1], line 3\u001B[0m\n\u001B[1;32m      1\u001B[0m \u001B[38;5;66;03m# Example: Comparing ML algorithms for classification\u001B[39;00m\n\u001B[1;32m      2\u001B[0m \u001B[38;5;28;01mimport\u001B[39;00m \u001B[38;5;21;01mpandas\u001B[39;00m \u001B[38;5;28;01mas\u001B[39;00m \u001B[38;5;21;01mpd\u001B[39;00m\n\u001B[0;32m----> 3\u001B[0m \u001B[38;5;28;01mfrom\u001B[39;00m \u001B[38;5;21;01msklearn\u001B[39;00m\u001B[38;5;21;01m.\u001B[39;00m\u001B[38;5;21;01mmodel_selection\u001B[39;00m \u001B[38;5;28;01mimport\u001B[39;00m train_test_split, KFold, cross_val_score\n\u001B[1;32m      4\u001B[0m \u001B[38;5;28;01mfrom\u001B[39;00m \u001B[38;5;21;01msklearn\u001B[39;00m\u001B[38;5;21;01m.\u001B[39;00m\u001B[38;5;21;01mlinear_model\u001B[39;00m \u001B[38;5;28;01mimport\u001B[39;00m LogisticRegression\n\u001B[1;32m      5\u001B[0m \u001B[38;5;28;01mfrom\u001B[39;00m \u001B[38;5;21;01msklearn\u001B[39;00m\u001B[38;5;21;01m.\u001B[39;00m\u001B[38;5;21;01mtree\u001B[39;00m \u001B[38;5;28;01mimport\u001B[39;00m DecisionTreeClassifier\n",
      "\u001B[0;31mModuleNotFoundError\u001B[0m: No module named 'sklearn'"
     ]
    }
   ],
   "execution_count": 1
  },
  {
   "cell_type": "markdown",
   "id": "d7caedb3",
   "metadata": {},
   "source": [
    "## Section 3: Advanced Matplotlib Usage"
   ]
  },
  {
   "cell_type": "code",
   "execution_count": null,
   "id": "ae7d5e1e",
   "metadata": {},
   "outputs": [],
   "source": [
    "\n",
    "# Example: Customizing plots\n",
    "import numpy as np\n",
    "import matplotlib.pyplot as plt\n",
    "\n",
    "x = np.linspace(0, 2 * np.pi, 100)\n",
    "y1 = np.sin(x)\n",
    "y2 = np.cos(x)\n",
    "\n",
    "plt.figure(figsize=(10, 6))\n",
    "plt.plot(x, y1, label='sin(x)', linestyle='--', color='r')\n",
    "plt.plot(x, y2, label='cos(x)', linestyle='-', color='b')\n",
    "plt.title(\"Sine and Cosine Waves\")\n",
    "plt.xlabel(\"Angle (radians)\")\n",
    "plt.ylabel(\"Amplitude\")\n",
    "plt.legend(loc='upper right')\n",
    "plt.grid(True)\n",
    "plt.show()\n"
   ]
  }
 ],
 "metadata": {
  "kernelspec": {
   "name": "python3",
   "language": "python",
   "display_name": "Python 3 (ipykernel)"
  }
 },
 "nbformat": 4,
 "nbformat_minor": 5
}
