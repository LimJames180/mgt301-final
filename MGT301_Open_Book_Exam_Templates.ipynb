{
 "cells": [
  {
   "cell_type": "markdown",
   "id": "1eb5ecf3",
   "metadata": {},
   "source": [
    "## Open Book Exam Templates for MGT301\n",
    "\n",
    "### Section 1: Conceptual Questions"
   ]
  },
  {
   "cell_type": "markdown",
   "id": "54f3949a",
   "metadata": {},
   "source": [
    "1. **General Understanding**:\n",
    "- Explain the difference between `DataFrame` and `Series` in pandas. Provide an example of when you would use each.\n",
    "- Discuss three methods to handle outliers in a dataset. Provide an example for each."
   ]
  },
  {
   "cell_type": "markdown",
   "id": "36794ed0",
   "metadata": {},
   "source": [
    "2. **Data Cleaning**:\n",
    "- What is the importance of handling missing values in data preprocessing? Illustrate with examples.\n",
    "- Describe the process of using the `z-score` method for identifying outliers. What are the advantages and disadvantages of this method?"
   ]
  },
  {
   "metadata": {},
   "cell_type": "markdown",
   "source": [
    "\n",
    "\n",
    "## Section 1: Conceptual Questions\n",
    "\n",
    "### General Understanding\n",
    "\n",
    "1. **Explain the difference between DataFrame and Series in pandas. Provide an example of when you would use each.**\n",
    "   - A **Series** is a one-dimensional labeled array capable of holding any data type (integers, strings, floats, etc.). It's essentially a single column of data.\n",
    "   - A **DataFrame** is a two-dimensional labeled data structure, which can be thought of as a collection of Series sharing the same index.\n",
    "\n",
    "   **Example:**\n",
    "   - Use a **Series** when working with a single column of data, like stock prices over time.\n",
    "   - Use a **DataFrame** when working with multiple columns, like stock prices and volumes over time.\n",
    "\n",
    "2. **Discuss three methods to handle outliers in a dataset. Provide an example for each.**\n",
    "   - **Trimming:** Remove data points beyond a specific threshold (e.g., outside 1.5 IQR).\n",
    "   - **Capping:** Replace outliers with the nearest boundary values (e.g., 5th and 95th percentiles).\n",
    "   - **Transformations:** Apply transformations (e.g., logarithmic) to reduce the effect of outliers.\n",
    "\n",
    "---\n",
    "\n",
    "### Data Cleaning\n",
    "\n",
    "3. **What is the importance of handling missing values in data preprocessing? Illustrate with examples.**\n",
    "   - Missing values can distort analysis and lead to inaccurate models. Strategies include:\n",
    "     - **Removing rows/columns with too many missing values.**\n",
    "     - **Imputing with mean, median, or mode.**\n",
    "     - **Using predictive models for imputation.**\n",
    "\n",
    "4. **Describe the process of using the z-score method for identifying outliers. What are the advantages and disadvantages of this method?**\n",
    "   - Calculate the z-score for each data point.\n",
    "   - Identify outliers as points where the z-score is greater than a threshold (e.g., ±3).\n",
    "   - **Advantages:** Simple and interpretable.\n",
    "   - **Disadvantages:** Assumes normal distribution and can be influenced by extreme values.\n",
    "\n",
    "---\n",
    "\n",
    "### Descriptive Statistics\n",
    "\n",
    "5. **Define skewness and kurtosis. What do they indicate about a dataset?**\n",
    "   - **Skewness:** Measures asymmetry in the distribution.\n",
    "     - Positive skew: Tail is on the right.\n",
    "     - Negative skew: Tail is on the left.\n",
    "   - **Kurtosis:** Measures the \"tailedness\" of the distribution.\n",
    "     - High kurtosis: Heavy tails (outliers).\n",
    "     - Low kurtosis: Light tails.\n",
    "\n",
    "6. **Explain the difference between variance and covariance. Provide a scenario where each is relevant.**\n",
    "   - **Variance:** Measures the spread of a single variable.\n",
    "     - Relevant for understanding variability in stock prices.\n",
    "   - **Covariance:** Measures how two variables change together.\n",
    "     - Relevant for assessing the relationship between two stock prices.\n",
    "\n",
    "---\n",
    "\n",
    "### Grouping and Aggregation\n",
    "\n",
    "7. **Explain the purpose of the `groupby` function in pandas. Provide an example of its usage.**\n",
    "   - Groups data based on a key and applies operations (e.g., sum, mean).\n",
    "   ```python\n",
    "   df.groupby('Category').sum()\n"
   ],
   "id": "8649b54e85e2245f"
  },
  {
   "cell_type": "markdown",
   "id": "26088072",
   "metadata": {},
   "source": [
    "### Section 4: Coding Templates\n",
    "\n",
    "#### Template 1: DataFrame Creation"
   ]
  },
  {
   "cell_type": "code",
   "id": "27735c6a",
   "metadata": {
    "ExecuteTime": {
     "end_time": "2024-12-11T09:58:47.246177Z",
     "start_time": "2024-12-11T09:58:47.240682Z"
    }
   },
   "source": [
    "import pandas as pd\n",
    "\n",
    "data = {\n",
    "    'Name': ['Alice', 'Bob', 'Charlie'],\n",
    "    'Age': [25, 30, 35],\n",
    "    'Department': ['HR', 'IT', 'Finance']\n",
    "}\n",
    "\n",
    "# Create DataFrame\n",
    "df = pd.DataFrame(data)\n",
    "print(df)"
   ],
   "outputs": [
    {
     "name": "stdout",
     "output_type": "stream",
     "text": [
      "      Name  Age Department\n",
      "0    Alice   25         HR\n",
      "1      Bob   30         IT\n",
      "2  Charlie   35    Finance\n"
     ]
    }
   ],
   "execution_count": 2
  },
  {
   "cell_type": "markdown",
   "id": "1a0a64e4",
   "metadata": {},
   "source": [
    "#### Template 2: Handling Missing Values"
   ]
  },
  {
   "cell_type": "code",
   "id": "5cbb31d8",
   "metadata": {
    "ExecuteTime": {
     "end_time": "2024-12-11T09:58:51.155253Z",
     "start_time": "2024-12-11T09:58:51.148738Z"
    }
   },
   "source": [
    "# Fill missing values\n",
    "import pandas as pd\n",
    "\n",
    "data = {\n",
    "    'Name': ['Alice', 'Bob', None],\n",
    "    'Age': [25, None, 35]\n",
    "}\n",
    "\n",
    "df = pd.DataFrame(data)\n",
    "\n",
    "# Fill missing values with default values\n",
    "df['Name'].fillna('Unknown', inplace=True)\n",
    "df['Age'].fillna(df['Age'].mean(), inplace=True)\n",
    "print(df)"
   ],
   "outputs": [
    {
     "name": "stdout",
     "output_type": "stream",
     "text": [
      "      Name   Age\n",
      "0    Alice  25.0\n",
      "1      Bob  30.0\n",
      "2  Unknown  35.0\n"
     ]
    },
    {
     "name": "stderr",
     "output_type": "stream",
     "text": [
      "/var/folders/c5/7bfjr0g578d3ckntjsz5_5dc0000gn/T/ipykernel_28849/1260496918.py:12: FutureWarning: A value is trying to be set on a copy of a DataFrame or Series through chained assignment using an inplace method.\n",
      "The behavior will change in pandas 3.0. This inplace method will never work because the intermediate object on which we are setting values always behaves as a copy.\n",
      "\n",
      "For example, when doing 'df[col].method(value, inplace=True)', try using 'df.method({col: value}, inplace=True)' or df[col] = df[col].method(value) instead, to perform the operation inplace on the original object.\n",
      "\n",
      "\n",
      "  df['Name'].fillna('Unknown', inplace=True)\n",
      "/var/folders/c5/7bfjr0g578d3ckntjsz5_5dc0000gn/T/ipykernel_28849/1260496918.py:13: FutureWarning: A value is trying to be set on a copy of a DataFrame or Series through chained assignment using an inplace method.\n",
      "The behavior will change in pandas 3.0. This inplace method will never work because the intermediate object on which we are setting values always behaves as a copy.\n",
      "\n",
      "For example, when doing 'df[col].method(value, inplace=True)', try using 'df.method({col: value}, inplace=True)' or df[col] = df[col].method(value) instead, to perform the operation inplace on the original object.\n",
      "\n",
      "\n",
      "  df['Age'].fillna(df['Age'].mean(), inplace=True)\n"
     ]
    }
   ],
   "execution_count": 3
  },
  {
   "cell_type": "markdown",
   "id": "6f8cb976",
   "metadata": {},
   "source": [
    "#### Template 3: Outlier Removal Using IQR"
   ]
  },
  {
   "cell_type": "code",
   "id": "91b07405",
   "metadata": {
    "ExecuteTime": {
     "end_time": "2024-12-11T09:58:54.244666Z",
     "start_time": "2024-12-11T09:58:54.238651Z"
    }
   },
   "source": [
    "import numpy as np\n",
    "import pandas as pd\n",
    "\n",
    "data = {\n",
    "    'Value': [10, 15, 14, 12, 200, 13, 17]\n",
    "}\n",
    "\n",
    "df = pd.DataFrame(data)\n",
    "\n",
    "# Calculate IQR\n",
    "Q1 = df['Value'].quantile(0.25)\n",
    "Q3 = df['Value'].quantile(0.75)\n",
    "IQR = Q3 - Q1\n",
    "\n",
    "# Filter out outliers\n",
    "filtered_df = df[(df['Value'] >= (Q1 - 1.5 * IQR)) & (df['Value'] <= (Q3 + 1.5 * IQR))]\n",
    "print(filtered_df)"
   ],
   "outputs": [
    {
     "name": "stdout",
     "output_type": "stream",
     "text": [
      "   Value\n",
      "0     10\n",
      "1     15\n",
      "2     14\n",
      "3     12\n",
      "5     13\n",
      "6     17\n"
     ]
    }
   ],
   "execution_count": 4
  },
  {
   "cell_type": "markdown",
   "id": "cbba8a01",
   "metadata": {},
   "source": [
    "#### Template 4: Data Aggregation"
   ]
  },
  {
   "cell_type": "code",
   "id": "95fc7669",
   "metadata": {
    "ExecuteTime": {
     "end_time": "2024-12-11T09:58:56.343954Z",
     "start_time": "2024-12-11T09:58:56.338900Z"
    }
   },
   "source": [
    "import pandas as pd\n",
    "\n",
    "data = {\n",
    "    'Region': ['East', 'West', 'East', 'North'],\n",
    "    'Sales': [100, 200, 150, 300]\n",
    "}\n",
    "\n",
    "df = pd.DataFrame(data)\n",
    "\n",
    "# Group by and aggregate\n",
    "grouped = df.groupby('Region')['Sales'].sum()\n",
    "print(grouped)"
   ],
   "outputs": [
    {
     "name": "stdout",
     "output_type": "stream",
     "text": [
      "Region\n",
      "East     250\n",
      "North    300\n",
      "West     200\n",
      "Name: Sales, dtype: int64\n"
     ]
    }
   ],
   "execution_count": 5
  },
  {
   "cell_type": "markdown",
   "id": "8ed457d8",
   "metadata": {},
   "source": [
    "#### Template 5: Visualization"
   ]
  },
  {
   "cell_type": "code",
   "id": "3fdf8ae2",
   "metadata": {
    "ExecuteTime": {
     "end_time": "2024-12-11T09:59:04.321327Z",
     "start_time": "2024-12-11T09:59:04.291930Z"
    }
   },
   "source": [
    "import matplotlib.pyplot as plt\n",
    "import pandas as pd\n",
    "\n",
    "data = {\n",
    "    'Category': ['A', 'B', 'C'],\n",
    "    'Values': [10, 20, 15]\n",
    "}\n",
    "\n",
    "df = pd.DataFrame(data)\n",
    "\n",
    "# Bar plot\n",
    "plt.bar(df['Category'], df['Values'])\n",
    "plt.xlabel('Category')\n",
    "plt.ylabel('Values')\n",
    "plt.title('Category vs Values')\n",
    "plt.show()"
   ],
   "outputs": [
    {
     "ename": "ModuleNotFoundError",
     "evalue": "No module named 'matplotlib'",
     "output_type": "error",
     "traceback": [
      "\u001B[0;31m---------------------------------------------------------------------------\u001B[0m",
      "\u001B[0;31mModuleNotFoundError\u001B[0m                       Traceback (most recent call last)",
      "Cell \u001B[0;32mIn[6], line 1\u001B[0m\n\u001B[0;32m----> 1\u001B[0m \u001B[38;5;28;01mimport\u001B[39;00m \u001B[38;5;21;01mmatplotlib\u001B[39;00m\u001B[38;5;21;01m.\u001B[39;00m\u001B[38;5;21;01mpyplot\u001B[39;00m \u001B[38;5;28;01mas\u001B[39;00m \u001B[38;5;21;01mplt\u001B[39;00m\n\u001B[1;32m      2\u001B[0m \u001B[38;5;28;01mimport\u001B[39;00m \u001B[38;5;21;01mpandas\u001B[39;00m \u001B[38;5;28;01mas\u001B[39;00m \u001B[38;5;21;01mpd\u001B[39;00m\n\u001B[1;32m      4\u001B[0m data \u001B[38;5;241m=\u001B[39m {\n\u001B[1;32m      5\u001B[0m     \u001B[38;5;124m'\u001B[39m\u001B[38;5;124mCategory\u001B[39m\u001B[38;5;124m'\u001B[39m: [\u001B[38;5;124m'\u001B[39m\u001B[38;5;124mA\u001B[39m\u001B[38;5;124m'\u001B[39m, \u001B[38;5;124m'\u001B[39m\u001B[38;5;124mB\u001B[39m\u001B[38;5;124m'\u001B[39m, \u001B[38;5;124m'\u001B[39m\u001B[38;5;124mC\u001B[39m\u001B[38;5;124m'\u001B[39m],\n\u001B[1;32m      6\u001B[0m     \u001B[38;5;124m'\u001B[39m\u001B[38;5;124mValues\u001B[39m\u001B[38;5;124m'\u001B[39m: [\u001B[38;5;241m10\u001B[39m, \u001B[38;5;241m20\u001B[39m, \u001B[38;5;241m15\u001B[39m]\n\u001B[1;32m      7\u001B[0m }\n",
      "\u001B[0;31mModuleNotFoundError\u001B[0m: No module named 'matplotlib'"
     ]
    }
   ],
   "execution_count": 6
  },
  {
   "metadata": {},
   "cell_type": "code",
   "outputs": [],
   "execution_count": null,
   "source": "",
   "id": "f834e186eed743fc"
  }
 ],
 "metadata": {
  "kernelspec": {
   "name": "python3",
   "language": "python",
   "display_name": "Python 3 (ipykernel)"
  }
 },
 "nbformat": 4,
 "nbformat_minor": 5
}
